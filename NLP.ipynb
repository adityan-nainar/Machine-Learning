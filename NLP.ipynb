{
  "nbformat": 4,
  "nbformat_minor": 0,
  "metadata": {
    "colab": {
      "provenance": [],
      "authorship_tag": "ABX9TyOf2+zeFSbfIg0IPfTK1UtE",
      "include_colab_link": true
    },
    "kernelspec": {
      "name": "python3",
      "display_name": "Python 3"
    },
    "language_info": {
      "name": "python"
    }
  },
  "cells": [
    {
      "cell_type": "markdown",
      "metadata": {
        "id": "view-in-github",
        "colab_type": "text"
      },
      "source": [
        "<a href=\"https://colab.research.google.com/github/adityan-nainar/Machine-Learning/blob/main/NLP.ipynb\" target=\"_parent\"><img src=\"https://colab.research.google.com/assets/colab-badge.svg\" alt=\"Open In Colab\"/></a>"
      ]
    },
    {
      "cell_type": "markdown",
      "source": [
        "# **Natural Language Processing**\n",
        "\n",
        "---\n",
        "\n"
      ],
      "metadata": {
        "id": "Js7rWUo5QvFB"
      }
    },
    {
      "cell_type": "markdown",
      "source": [
        "## Stemming, Lemming and Stopwords"
      ],
      "metadata": {
        "id": "cD39NNlQ6X2q"
      }
    },
    {
      "cell_type": "code",
      "execution_count": 1,
      "metadata": {
        "id": "Ewoi_V-gMeX0",
        "colab": {
          "base_uri": "https://localhost:8080/"
        },
        "outputId": "0fcdada1-203e-4148-fed6-74f251aa6177"
      },
      "outputs": [
        {
          "output_type": "stream",
          "name": "stderr",
          "text": [
            "[nltk_data] Downloading package wordnet to /root/nltk_data...\n",
            "[nltk_data] Downloading package punkt to /root/nltk_data...\n",
            "[nltk_data]   Unzipping tokenizers/punkt.zip.\n",
            "[nltk_data] Downloading package stopwords to /root/nltk_data...\n",
            "[nltk_data]   Unzipping corpora/stopwords.zip.\n"
          ]
        }
      ],
      "source": [
        "import nltk\n",
        "nltk.download(\"wordnet\")\n",
        "nltk.download(\"punkt\")   # for tokenization\n",
        "nltk.download(\"stopwords\")   # for stopwords\n",
        "\n",
        "from nltk.stem import PorterStemmer\n",
        "from nltk.stem import WordNetLemmatizer\n",
        "from nltk.corpus import stopwords\n",
        "\n",
        "stemmer = PorterStemmer()\n",
        "lemmer = WordNetLemmatizer()"
      ]
    },
    {
      "cell_type": "code",
      "source": [
        "paragraph = \"\"\"\n",
        "The Japan Transport Safety Board (JTSB), the South Korean Aviation and Railway Accident Investigation Board (ARAIB), and the United States National Transportation Safety Board (NTSB) all investigated the accident, with assistance from experts in South Korea and the United States. On 30 May 2016, investigators revealed that the low-pressure turbine blades on the left (number one) Pratt & Whitney PW4090 engine had \"shattered\", with fragments piercing the engine cover, with fragments subsequently found on the runway. The engine's high-pressure turbine blades and high-pressure compressor were intact and free of abnormalities, and investigators found no evidence of a bird strike.[10][11]\n",
        "\n",
        "The aircraft was repaired and returned to service with Korean Air on 3 June 2016.[12]\n",
        "\n",
        "The final JTSB investigative report, released on 26 July 2018, discussed a significant number of problems related to the failure and the response of the crew and passengers to it. These included poor maintenance standards that overlooked a crack growing in the LP turbine disc in the engine created by metal fatigue that eventually failed, the failure of the crew to locate the list of emergency procedures for use in such an emergency, beginning evacuation of the aircraft whilst the engines were still turning meaning there was a risk of passengers being blown away by the engines, and passengers ignoring instructions to leave luggage behind when using the evacuation slides risking piercing of the slides.[13] As a result of the fire, the FAA issued an Airworthiness Directive mandating inspection of engines of the type involved in the fire to evaluate the condition of the components which failed on Flight 2708.[5]: 56\n",
        "\"\"\""
      ],
      "metadata": {
        "id": "gBjRW5ngo_jJ"
      },
      "execution_count": 2,
      "outputs": []
    },
    {
      "cell_type": "code",
      "source": [
        "sentence = nltk.sent_tokenize(paragraph)\n",
        "print(sentence)\n",
        "\n",
        "stemmer.stem('going')\n",
        "lemmer.lemmatize('historical')"
      ],
      "metadata": {
        "colab": {
          "base_uri": "https://localhost:8080/",
          "height": 74
        },
        "id": "VWvbqVUcfsY7",
        "outputId": "50116498-6009-4b50-bc66-60422c72be70"
      },
      "execution_count": 3,
      "outputs": [
        {
          "output_type": "stream",
          "name": "stdout",
          "text": [
            "['\\nThe Japan Transport Safety Board (JTSB), the South Korean Aviation and Railway Accident Investigation Board (ARAIB), and the United States National Transportation Safety Board (NTSB) all investigated the accident, with assistance from experts in South Korea and the United States.', 'On 30 May 2016, investigators revealed that the low-pressure turbine blades on the left (number one) Pratt & Whitney PW4090 engine had \"shattered\", with fragments piercing the engine cover, with fragments subsequently found on the runway.', \"The engine's high-pressure turbine blades and high-pressure compressor were intact and free of abnormalities, and investigators found no evidence of a bird strike.\", '[10][11]\\n\\nThe aircraft was repaired and returned to service with Korean Air on 3 June 2016.', '[12]\\n\\nThe final JTSB investigative report, released on 26 July 2018, discussed a significant number of problems related to the failure and the response of the crew and passengers to it.', 'These included poor maintenance standards that overlooked a crack growing in the LP turbine disc in the engine created by metal fatigue that eventually failed, the failure of the crew to locate the list of emergency procedures for use in such an emergency, beginning evacuation of the aircraft whilst the engines were still turning meaning there was a risk of passengers being blown away by the engines, and passengers ignoring instructions to leave luggage behind when using the evacuation slides risking piercing of the slides.', '[13] As a result of the fire, the FAA issued an Airworthiness Directive mandating inspection of engines of the type involved in the fire to evaluate the condition of the components which failed on Flight 2708.', '[5]:\\u200a56']\n"
          ]
        },
        {
          "output_type": "execute_result",
          "data": {
            "text/plain": [
              "'historical'"
            ],
            "application/vnd.google.colaboratory.intrinsic+json": {
              "type": "string"
            }
          },
          "metadata": {},
          "execution_count": 3
        }
      ]
    },
    {
      "cell_type": "code",
      "source": [
        "len(sentence)"
      ],
      "metadata": {
        "colab": {
          "base_uri": "https://localhost:8080/"
        },
        "id": "BN_V_D6ZjCUs",
        "outputId": "62cd6533-93d1-45b5-e91a-b7c6f9c2c096"
      },
      "execution_count": 4,
      "outputs": [
        {
          "output_type": "execute_result",
          "data": {
            "text/plain": [
              "8"
            ]
          },
          "metadata": {},
          "execution_count": 4
        }
      ]
    },
    {
      "cell_type": "code",
      "source": [
        "import re # regular expression\n",
        "\n",
        "corpus = []\n",
        "\n",
        "for i in range(len(sentence)):\n",
        "  review = re.sub('[^a-zA-z]', \" \", sentence[i])\n",
        "  review = review.lower()\n",
        "  corpus.append(review)\n",
        "\n",
        "print(corpus)"
      ],
      "metadata": {
        "colab": {
          "base_uri": "https://localhost:8080/"
        },
        "id": "zhS9ORvDhPJ_",
        "outputId": "395f834f-608e-4ad2-b5c2-f6f907ced16a"
      },
      "execution_count": 5,
      "outputs": [
        {
          "output_type": "stream",
          "name": "stdout",
          "text": [
            "[' the japan transport safety board  jtsb   the south korean aviation and railway accident investigation board  araib   and the united states national transportation safety board  ntsb  all investigated the accident  with assistance from experts in south korea and the united states ', 'on    may       investigators revealed that the low pressure turbine blades on the left  number one  pratt   whitney pw     engine had  shattered   with fragments piercing the engine cover  with fragments subsequently found on the runway ', 'the engine s high pressure turbine blades and high pressure compressor were intact and free of abnormalities  and investigators found no evidence of a bird strike ', '[  ][  ]  the aircraft was repaired and returned to service with korean air on   june      ', '[  ]  the final jtsb investigative report  released on    july       discussed a significant number of problems related to the failure and the response of the crew and passengers to it ', 'these included poor maintenance standards that overlooked a crack growing in the lp turbine disc in the engine created by metal fatigue that eventually failed  the failure of the crew to locate the list of emergency procedures for use in such an emergency  beginning evacuation of the aircraft whilst the engines were still turning meaning there was a risk of passengers being blown away by the engines  and passengers ignoring instructions to leave luggage behind when using the evacuation slides risking piercing of the slides ', '[  ] as a result of the fire  the faa issued an airworthiness directive mandating inspection of engines of the type involved in the fire to evaluate the condition of the components which failed on flight      ', '[ ]    ']\n"
          ]
        }
      ]
    },
    {
      "cell_type": "code",
      "source": [
        "for i in corpus:\n",
        "  words = nltk.word_tokenize(i)\n",
        "  for word in words:\n",
        "    if word not in set(stopwords.words('english')):\n",
        "      lemmer.lemmatize(word)\n",
        "      print(word)"
      ],
      "metadata": {
        "id": "gycQErBvm0Eb"
      },
      "execution_count": null,
      "outputs": []
    },
    {
      "cell_type": "code",
      "source": [
        "from sklearn.feature_extraction.text import CountVectorizer\n",
        "# cv = CountVectorizer()\n",
        "cv = CountVectorizer(binary=True, ngram_range=(2,3))   # to give binary bag of words"
      ],
      "metadata": {
        "id": "Hba8aUjcnvU3"
      },
      "execution_count": 8,
      "outputs": []
    },
    {
      "cell_type": "code",
      "source": [
        "X = cv.fit_transform(corpus)"
      ],
      "metadata": {
        "id": "ZcltKbplv_Oa"
      },
      "execution_count": 9,
      "outputs": []
    },
    {
      "cell_type": "code",
      "source": [
        "cv.vocabulary_ # gives the index not the frequency"
      ],
      "metadata": {
        "id": "IQ-zLw9NwCsm"
      },
      "execution_count": null,
      "outputs": []
    },
    {
      "cell_type": "code",
      "source": [
        "X[1].toarray()"
      ],
      "metadata": {
        "id": "gUI1zKfawHP7"
      },
      "execution_count": null,
      "outputs": []
    },
    {
      "cell_type": "markdown",
      "source": [
        "## TFIDF"
      ],
      "metadata": {
        "id": "wpxoY1uNLWDC"
      }
    },
    {
      "cell_type": "code",
      "source": [
        "from sklearn.feature_extraction.text import TfidfVectorizer\n",
        "cv = TfidfVectorizer(ngram_range=(2,3), max_features=3)\n",
        "X = cv.fit_transform(corpus)"
      ],
      "metadata": {
        "id": "uVM5lw1kwWmm"
      },
      "execution_count": 20,
      "outputs": []
    },
    {
      "cell_type": "code",
      "source": [
        "X.toarray()"
      ],
      "metadata": {
        "colab": {
          "base_uri": "https://localhost:8080/"
        },
        "id": "m9TGbQE8L804",
        "outputId": "fb7a871f-9f92-4b04-90a4-65773d9c1e19"
      },
      "execution_count": 22,
      "outputs": [
        {
          "output_type": "execute_result",
          "data": {
            "text/plain": [
              "array([[1.        , 0.        , 0.        ],\n",
              "       [0.        , 0.        , 0.        ],\n",
              "       [0.        , 0.        , 0.        ],\n",
              "       [0.        , 0.        , 0.        ],\n",
              "       [0.757092  , 0.        , 0.65330828],\n",
              "       [0.        , 0.6113708 , 0.79134426],\n",
              "       [0.        , 0.36033646, 0.9328224 ],\n",
              "       [0.        , 0.        , 0.        ]])"
            ]
          },
          "metadata": {},
          "execution_count": 22
        }
      ]
    },
    {
      "cell_type": "markdown",
      "source": [
        "## Word2Vec"
      ],
      "metadata": {
        "id": "fJr-oCiIRAyu"
      }
    },
    {
      "cell_type": "code",
      "source": [],
      "metadata": {
        "id": "KA4_iaK7RCYQ"
      },
      "execution_count": null,
      "outputs": []
    }
  ]
}